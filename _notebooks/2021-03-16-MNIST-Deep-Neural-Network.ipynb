{
 "cells": [
  {
   "cell_type": "markdown",
   "metadata": {},
   "source": [
    "# Identify MNIST Digits With 97% Accuracy By Using A 2 Layer Neural Network\n",
    "> \"Adding a hidden layer increased my accuracy by over 20%\"\n",
    "\n",
    "- toc: true \n",
    "- badges: true\n",
    "- comments: true\n",
    "- categories: [Grokking Deep Learning, Deep Learning, Python]\n",
    "- image: images/hiddenlayer.png"
   ]
  },
  {
   "cell_type": "markdown",
   "metadata": {},
   "source": [
    "# What I'm Building"
   ]
  },
  {
   "cell_type": "markdown",
   "metadata": {},
   "source": [
    "In this post, I'll show you how I implemented a 2 layer neural network which is able to achieve over 97% accuracy on the MNIST test set.\n",
    "\n",
    "This network builds on the work in my previous posts. If you'd like a refresher, they are:\n",
    "- [How I Implemented The Most Simple Neural Network Using Python](https://leogau.dev/2021/01/22/How-I-Implemented-The-Most-Simple-Neural-Net.html)\n",
    "- [How I Identify Handwritten Digits Using Only Python](https://leogau.dev/2021/02/28/MINST.html)\n",
    "- [How I Go From 70 Lines Of Code To Only 26 Using The NumPy Library](https://leogau.dev/2021/03/10/MINST-Numpy.html)\n",
    "\n",
    "Now, I'll show you the code first and then explain some concepts you need to understand what's going on."
   ]
  },
  {
   "cell_type": "markdown",
   "metadata": {},
   "source": [
    "# The Code"
   ]
  },
  {
   "cell_type": "code",
   "execution_count": null,
   "metadata": {},
   "outputs": [],
   "source": [
    "import numpy as np\n",
    "np.random.seed(1)\n",
    "\n",
    "def relu(x):\n",
    "    return (x > 0) * x\n",
    "\n",
    "def relu2deriv(output):\n",
    "    return output > 0\n",
    "\n",
    "def flatten_image(image):\n",
    "    return np.array(image).reshape(1, 28*28)\n",
    "\n",
    "class NeuralNet:\n",
    "    def __init__(self):\n",
    "        self.alpha = 0.00001\n",
    "        self.hidden_size = 1000\n",
    "        self.weights_0_1 = np.random.random((28 * 28, self.hidden_size)) * 0.0001\n",
    "        self.weights_1_2 = np.random.random((self.hidden_size, 10)) * 0.0001\n",
    "\n",
    "    def predict(self, input):\n",
    "        layer_0 = input\n",
    "        layer_1 = relu(np.dot(layer_0, self.weights_0_1))\n",
    "        layer_2 = np.dot(layer_1, self.weights_1_2)\n",
    "        return layer_2\n",
    "\n",
    "    def train(self, input, labels, epochs):\n",
    "        for i in range(epochs):\n",
    "            layer_2_error = 0\n",
    "            for j in range(len(input)):\n",
    "                layer_0 = input[j]\n",
    "                layer_1 = relu(np.dot(layer_0, self.weights_0_1))\n",
    "                layer_2 = np.dot(layer_1, self.weights_1_2)    \n",
    "                \n",
    "                label = labels[j]\n",
    "                goal = np.zeros(10)\n",
    "                goal[label] = 1\n",
    "\n",
    "                layer_2_error = np.sum((layer_2 - goal) ** 2)\n",
    "\n",
    "                layer_2_delta = (layer_2 - goal)\n",
    "                layer_1_delta = layer_2_delta.dot(self.weights_1_2.T) * relu2deriv(layer_1)\n",
    "\n",
    "                self.weights_1_2 = self.weights_1_2 - (self.alpha * layer_1.T.dot(layer_2_delta))\n",
    "                self.weights_0_1 = self.weights_0_1 - (self.alpha * layer_0.T.dot(layer_1_delta))\n",
    "            \n",
    "            print(\"Error: \" + str(layer_2_error))"
   ]
  },
  {
   "cell_type": "code",
   "execution_count": null,
   "metadata": {},
   "outputs": [],
   "source": [
    "from keras.datasets import mnist\n",
    "\n",
    "(x_train, y_train), (x_test, y_test) = mnist.load_data()\n",
    "\n",
    "images = x_train\n",
    "labels = y_train\n",
    "\n",
    "prepared_images = [flatten_image(image) for image in images]\n",
    "prepared_labels = np.array(labels)\n",
    "\n",
    "nn = NeuralNet()\n",
    "nn.train(prepared_images, prepared_labels, 5)\n",
    "\n",
    "test_set = x_test\n",
    "test_labels = y_test\n",
    "num_correct = 0\n",
    "for i in range(len(test_set)):\n",
    "    prediction = nn.predict(flatten_image(test_set[i]))\n",
    "    correct = test_labels[i]\n",
    "    if np.argmax(prediction) == int(correct):\n",
    "        num_correct += 1\n",
    "\n",
    "print(str(num_correct/len(test_set) * 100) + \"%\")"
   ]
  },
  {
   "cell_type": "markdown",
   "metadata": {},
   "source": [
    "# Why Do I Need More Than One Layer?"
   ]
  },
  {
   "cell_type": "markdown",
   "metadata": {},
   "source": [
    "At their core, neural networks find correlations between the input data and target data. Sometimes there's just no correlation to be found using the number of weights given.\n",
    "\n",
    "One way to increase the accuracy is to give the network more weights to use. And the way to give it more weights is to add more layers.\n",
    "\n",
    "We might not have correlation between the input and output layers but we can create an extra layer to help us out. \n",
    "\n",
    "Now, even with more weights, there's another problem. For any 3 layer network, there is a 2 layer network which can do that exact same thing.\n",
    "\n",
    "Since there is no special processing at the extra layer, it’s not contributing any new information to the network. It correlates 1:1 with the input layer. What we need is for the middle layer to sometime correlate and sometimes not correlate with the input layer. We need it to have it’s own processing.\n",
    "\n",
    "This is called *conditional correlation*. One way to create conditional correlation is to turn off the node when the value would be negative. If the value is negative, it would normally be negatively correlated with the input. However, if we turn it off (set the value to 0) then it doesn’t effect the output at all.\n",
    "\n",
    "This means a node can be selectively correlated with inputs.\n",
    "\n",
    "Let me flesh this out with an example.\n",
    "\n",
    "Let’s say a node has 2 inputs, left and right. The left input is 1 and the right input is -1. If we use both weights, the node would be 0. They cancel each other out. However, if we set right input to 0, then the node would only be correlated with the left input value. The node is now adding additional information to the network by saying, “Make me perfectly correlated with the left input, but only if the right input is 0.”\n",
    "\n",
    "This wasn’t possible earlier. This is the power of adding layers to the network.\n",
    "\n",
    "The technical term for a situation where 2 variables are not predictable from a straight line is “nonlinearity”. The functions we use to create nonlinearities are called *activation functions*. The one I use in my network - turn off the node when it's value would be negative - is called Rectified Linear Unit (ReLU).\n",
    "\n",
    "So that's one piece of the puzzle. I add another layer to give the neural network more weights to play with and create conditional correlation with activation functions.\n",
    "\n",
    "Another problem you might be thinking about now is, how do we adjust the weights of the new layers? In a single layer network, we get the derivative of the delta and the input, but now we have weights that didn’t directly contribute to the loss."
   ]
  },
  {
   "cell_type": "markdown",
   "metadata": {},
   "source": [
    "# Backpropagation"
   ]
  },
  {
   "cell_type": "markdown",
   "metadata": {},
   "source": [
    "The process of updating the weights in intermediate layers is called backpropagation.\n",
    "\n",
    "How do you use the delta from the final layer (layer_2) to figure out how to change the weights in an intermediate layer (layer_1)? It turns out, through some calculus, I can multiply the layer_2 delta with the layer_1 inputs. \n",
    "\n",
    "If I had more layers, I could keep multiplying the delta with the node input to get the weight_deltas.\n",
    "\n",
    "With knowledge of activation functions and backpropagation, I can now break down what I did in code."
   ]
  },
  {
   "cell_type": "markdown",
   "metadata": {},
   "source": [
    "# Import Libraries And Get Data\n",
    "\n",
    "For an explaination of this code, look at some of my previous posts."
   ]
  },
  {
   "cell_type": "code",
   "execution_count": null,
   "metadata": {},
   "outputs": [],
   "source": [
    "import numpy as np\n",
    "np.random.seed(1)"
   ]
  },
  {
   "cell_type": "code",
   "execution_count": 2,
   "metadata": {},
   "outputs": [],
   "source": [
    "from keras.datasets import mnist\n",
    "\n",
    "(x_train, y_train), (x_test, y_test) = mnist.load_data()\n",
    "\n",
    "images = x_train\n",
    "labels = y_train"
   ]
  },
  {
   "cell_type": "markdown",
   "metadata": {},
   "source": [
    "# Activation Functions\n",
    "\n",
    "Like I mentioned above, the activation function I used is called ReLU. ReLU will set any values that would be negative to 0. Any positive values remain as is."
   ]
  },
  {
   "cell_type": "code",
   "execution_count": 3,
   "metadata": {},
   "outputs": [],
   "source": [
    "def relu(x):\n",
    "    return (x > 0) * x"
   ]
  },
  {
   "cell_type": "markdown",
   "metadata": {},
   "source": [
    "During backpropagation, I don’t want to adjust the weights if ReLU set it to 0. Therefore, I need a function to tell me if ReLu did that or not. \n",
    "\n",
    "The `relu2deriv` function will be used to cancel the weight adjustment if it was altered during the prediction time. If ReLU set the value to 0, the weight should not be adjusted at all."
   ]
  },
  {
   "cell_type": "code",
   "execution_count": 4,
   "metadata": {},
   "outputs": [],
   "source": [
    "def relu2deriv(output):\n",
    "    return output > 0"
   ]
  },
  {
   "cell_type": "markdown",
   "metadata": {},
   "source": [
    "Finally, I have my trusty `flatten_image` function to prepare the data. "
   ]
  },
  {
   "cell_type": "code",
   "execution_count": null,
   "metadata": {},
   "outputs": [],
   "source": [
    "def flatten_image(image):\n",
    "    return np.array(image).reshape(1, 28*28)"
   ]
  },
  {
   "cell_type": "markdown",
   "metadata": {},
   "source": [
    "The `NeuralNet` class has three new features to look at.\n",
    "\n",
    "First, it has 2 sets of weights and a `hidden_size` which determines the size of the hidden layer.\n",
    "```python\n",
    "self.hidden_size = 1000\n",
    "self.weights_0_1 = np.random.random((28 * 28, self.hidden_size)) * 0.0001\n",
    "self.weights_1_2 = np.random.random((self.hidden_size, 10)) * 0.0001\n",
    "```\n",
    "A `hidden_size=1000` is going to give the network a lot more weights to figure out the correlation between the images and labels.\n",
    "\n",
    "Second, the prediction function now does 2 weighted sums\n",
    "```python\n",
    "layer_0 = input\n",
    "layer_1 = relu(np.dot(layer_0, self.weights_0_1))\n",
    "layer_2 = np.dot(layer_1, self.weights_1_2)\n",
    "```\n",
    "After setting `layer_0` as the inputs, I calculate `layer_1` by taking the weighted sum of `layer_0` and the first set of weights, `self.weights_0_1`. I then use our activation function on the result to get `layer_1`. \n",
    "The final layer, `layer_2`, is the weighted sum of `layer_1` and the second set of weights, `self.weights_1_2`.\n",
    "\n",
    "Finally, let's look at how the weights get updated.\n",
    "```python\n",
    "layer_2_delta = (layer_2 - goal)\n",
    "layer_1_delta = layer_2_delta.dot(self.weights_1_2.T) * relu2deriv(layer_1)\n",
    "\n",
    "layer_2_weight_delta = layer_1.T.dot(layer_2_delta)\n",
    "layer_1_weight_delta = layer_0.T.dot(layer_1_delta)\n",
    "\n",
    "self.weights_1_2 = self.weights_1_2 - (self.alpha * layer_2_weight_delta)\n",
    "self.weights_0_1 = self.weights_0_1 - (self.alpha * layer_1_weight_delta)\n",
    "```\n",
    "I get the `layer_2_delta` like before, getting the difference between the prediction and the goal. The `layer_1_delta` is derived by taking the weighted sum between the `layer_2_delta` and the weights connected to that layer, `self.weights_1_2`. I also need to use the `relu2deriv` function at this point to tell me if ReLU adjusted the node values or not.\n",
    "\n",
    "A note on the `.T` syntax. `.T` in NumPy is shorthand for transpose. It lets me reshape the matrix so everything lines up correctly to do matrix math.\n",
    "\n",
    "So that's the deltas, but how much do I adjust the weights by?\n",
    "\n",
    "I find the `layer_2_weight_delta` but calculating the weighted sum of `layer_1` and `layer_2_delta`. So it's the inputs into the layer and the delta at that layer.\n",
    "The `layer_1_weight_delta` is the same. I calculate the weighted sum of the inputs into that layer, `layer_0`, and the delta, `layer_1_delta`.\n",
    "\n",
    "The weights are still adjusted by subtracting the weight deltas multiplied by some learning rate (`self.alpha`)."
   ]
  },
  {
   "cell_type": "code",
   "execution_count": 1,
   "metadata": {},
   "outputs": [],
   "source": [
    "class NeuralNet:\n",
    "    def __init__(self):\n",
    "        self.alpha = 0.00001\n",
    "        self.hidden_size = 1000\n",
    "        self.weights_0_1 = np.random.random((28 * 28, self.hidden_size)) * 0.0001\n",
    "        self.weights_1_2 = np.random.random((self.hidden_size, 10)) * 0.0001\n",
    "\n",
    "    def predict(self, input):\n",
    "        layer_0 = input\n",
    "        layer_1 = relu(np.dot(layer_0, self.weights_0_1))\n",
    "        layer_2 = np.dot(layer_1, self.weights_1_2)\n",
    "        return layer_2\n",
    "\n",
    "    def train(self, input, labels, epochs):\n",
    "        for i in range(epochs):\n",
    "            layer_2_error = 0\n",
    "            for j in range(len(input)):\n",
    "                layer_0 = input[j]\n",
    "                layer_1 = relu(np.dot(layer_0, self.weights_0_1))\n",
    "                layer_2 = np.dot(layer_1, self.weights_1_2)    \n",
    "                \n",
    "                label = labels[j]\n",
    "                goal = np.zeros(10)\n",
    "                goal[label] = 1\n",
    "\n",
    "                layer_2_error = np.sum((layer_2 - goal) ** 2)\n",
    "\n",
    "                layer_2_delta = (layer_2 - goal)\n",
    "                layer_1_delta = layer_2_delta.dot(self.weights_1_2.T) * relu2deriv(layer_1)\n",
    "                \n",
    "                layer_2_weight_delta = layer_1.T.dot(layer_2_delta)\n",
    "                layer_1_weight_delta = layer_0.T.dot(layer_1_delta)\n",
    "\n",
    "                self.weights_1_2 = self.weights_1_2 - (self.alpha * layer_2_weight_delta)\n",
    "                self.weights_0_1 = self.weights_0_1 - (self.alpha * layer_1_weight_delta)\n",
    "            \n",
    "            print(\"Error: \" + str(layer_2_error))"
   ]
  },
  {
   "cell_type": "code",
   "execution_count": 17,
   "metadata": {},
   "outputs": [
    {
     "name": "stdout",
     "output_type": "stream",
     "text": [
      "Error: 0.10415136838556452\n",
      "Error: 0.07391762691913144\n",
      "Error: 0.0634422993538635\n",
      "Error: 0.05133955942375137\n",
      "Error: 0.039768839003841615\n",
      "97.48%\n"
     ]
    }
   ],
   "source": [
    "prepared_images = [flatten_image(image) for image in images]\n",
    "prepared_labels = np.array(labels)\n",
    "\n",
    "nn = NeuralNet()\n",
    "nn.train(prepared_images, prepared_labels, 5)\n",
    "\n",
    "test_set = x_test\n",
    "test_labels = y_test\n",
    "num_correct = 0\n",
    "for i in range(len(test_set)):\n",
    "    prediction = nn.predict(flatten_image(test_set[i]))\n",
    "    correct = test_labels[i]\n",
    "    if np.argmax(prediction) == int(correct):\n",
    "        num_correct += 1\n",
    "\n",
    "print(str(num_correct/len(test_set) * 100) + \"%\")"
   ]
  },
  {
   "cell_type": "markdown",
   "metadata": {},
   "source": [
    "If I train this network over 5 epochs like the other networks, I see the error go down to `0.03` and I get `97.48%` accuracy. \n",
    "\n",
    "Not too shabby! And what an improvement over the 1 layer network which only got `76%` correct!"
   ]
  },
  {
   "cell_type": "markdown",
   "metadata": {},
   "source": [
    "# What's Next?"
   ]
  },
  {
   "cell_type": "markdown",
   "metadata": {},
   "source": [
    "Next I'll dive into regularization and try to increase the accuracy even further.\n",
    "\n",
    "See you then!\n",
    "\n",
    "[Find me on Twitter](twitter.com/leogau) if you want discuss any of what I've written!"
   ]
  }
 ],
 "metadata": {
  "kernelspec": {
   "display_name": "Python 3",
   "language": "python",
   "name": "python3"
  },
  "language_info": {
   "codemirror_mode": {
    "name": "ipython",
    "version": 3
   },
   "file_extension": ".py",
   "mimetype": "text/x-python",
   "name": "python",
   "nbconvert_exporter": "python",
   "pygments_lexer": "ipython3",
   "version": "3.8.5"
  }
 },
 "nbformat": 4,
 "nbformat_minor": 4
}
