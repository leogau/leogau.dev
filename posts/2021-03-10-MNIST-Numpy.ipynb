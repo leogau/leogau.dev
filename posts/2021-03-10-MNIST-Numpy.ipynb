{
 "cells": [
  {
   "cell_type": "raw",
   "metadata": {},
   "source": [
    "---\n",
    "aliases:\n",
    "- /Grokking Deep Learning/Deep Learning/Python/2021/03/10/MNIST-Numpy\n",
    "badges: true\n",
    "categories:\n",
    "- Grokking Deep Learning\n",
    "- Deep Learning\n",
    "- Python\n",
    "date: '2021-03-10'\n",
    "description: Replacing my hand written math functions with NumPy\n",
    "image: images/numpylogodark.png\n",
    "output-file: 2021-03-10-mnist-numpy.html\n",
    "title: How I Go From 70 Lines Of Code To Only 26 Using The NumPy Library\n",
    "toc: true\n",
    "author: Leo Gau\n",
    "\n",
    "---\n"
   ]
  },
  {
   "cell_type": "markdown",
   "metadata": {},
   "source": [
    "# Context\n",
    "\n",
    "In [my previous post](https://leogau.dev/2021/02/28/MINST.html) I implemented a nerual network to understand handwritten digits using matrix math functions I implemented myself.\n",
    "\n",
    "Luckily, I don't have to be doing this going forward in the future. The [NumPy](numpy.com) library will do this all for me. Numpy is the one of the foundational libraries in the Python scientific computing ecosystem. It provides a high-performance, multidimentional array object which makes it fast and easy to work with matrices. \n",
    "\n",
    "In this post, I'll show you how I use NumPy to replace the hand written math functions I wrote."
   ]
  },
  {
   "cell_type": "markdown",
   "metadata": {},
   "source": [
    "# The Original Code Using Only Python\n",
    "\n",
    "Below is the original code with my owm matrix multiplication functions. "
   ]
  },
  {
   "cell_type": "code",
   "execution_count": null,
   "metadata": {
    "tags": []
   },
   "outputs": [],
   "source": [
    "def flatten_image(image):\n",
    "    return list(itertools.chain.from_iterable(image))\n",
    "\n",
    "def weighted_sum(a, b):\n",
    "    assert(len(a) == len(b))\n",
    "    output = 0\n",
    "    for i in range(len(a)):\n",
    "        output += (a[i] * b[i])\n",
    "    return output\n",
    "\n",
    "def vector_matrix_multiplication(a, b):\n",
    "    output = [0 for i in range(10)]\n",
    "    for i in range(len(output)):\n",
    "        assert(len(a) == len(b[i]))\n",
    "        output[i] = weighted_sum(a, b[i])\n",
    "    return output\n",
    "\n",
    "def zeros_matrix(rows, cols):\n",
    "    output = []\n",
    "    for r in range(rows):\n",
    "        output.append([0 for col in range(cols)])\n",
    "    return output\n",
    "\n",
    "def outer_product(a, b):\n",
    "    output = zeros_matrix(len(a), len(b))\n",
    "    for i in range(len(a)):\n",
    "        for j in range(len(b)):\n",
    "            output[i][j] = a[i] * b[j]\n",
    "    return output\n",
    "\n",
    "class NeuralNet:\n",
    "    def __init__(self):\n",
    "        self.weights = [\n",
    "            [0.0000 for i in range(784)],\n",
    "            [0.0001 for i in range(784)],\n",
    "            [0.0002 for i in range(784)],\n",
    "            [0.0003 for i in range(784)],\n",
    "            [0.0004 for i in range(784)],\n",
    "            [0.0005 for i in range(784)],\n",
    "            [0.0006 for i in range(784)],\n",
    "            [0.0007 for i in range(784)],\n",
    "            [0.0008 for i in range(784)],\n",
    "            [0.0009 for i in range(784)]\n",
    "        ]\n",
    "        self.alpha = 0.0000001\n",
    "\n",
    "    def predict(self, input):\n",
    "        return vector_matrix_multiplication(input, self.weights)\n",
    "\n",
    "    def train(self, input, labels, epochs):\n",
    "        for i in range(epochs):\n",
    "            for j in range(len(input)):\n",
    "                pred = self.predict(input[j])\n",
    "\n",
    "                label = labels[j]\n",
    "                goal = [0 for k in range(10)]\n",
    "                goal[label] = 1\n",
    "\n",
    "                error = [0 for k in range(10)]\n",
    "                delta = [0 for k in range(10)]\n",
    "\n",
    "                for a in range(len(goal)):\n",
    "                    delta[a] = pred[a] - goal[a]\n",
    "                    error[a] = delta[a] ** 2\n",
    "\n",
    "                weight_deltas = outer_product(delta, input[j])\n",
    "\n",
    "                for x in range(len(self.weights)):\n",
    "                    for y in range(len(self.weights[0])):\n",
    "                        self.weights[x][y] -= (self.alpha * weight_deltas[x][y])"
   ]
  },
  {
   "cell_type": "markdown",
   "metadata": {
    "tags": []
   },
   "source": [
    "# Implement The Helper Functions With NumPy\n",
    "\n",
    "To help me better understand how NumPy slots into this code, I'm going to keep my helper functions but implement them using NumPy. For example, I still have a weighted sum function but instead of hand calculating the weighted sum, I use the [NumPy dot function.](https://numpy.org/doc/stable/reference/generated/numpy.dot.html)"
   ]
  },
  {
   "cell_type": "code",
   "execution_count": null,
   "metadata": {},
   "outputs": [],
   "source": [
    "def flatten_image(image):\n",
    "    return image.reshape(1, 28*28)\n",
    "\n",
    "def weighted_sum(a, b):\n",
    "    return a.dot(b)\n",
    "\n",
    "def vector_matrix_multiplication(a, b):\n",
    "    return np.matmul(input, weights.T)\n",
    "\n",
    "def zeros_matrix(rows, cols):\n",
    "    return np.zeros((rows, cols))\n",
    "\n",
    "def outer_product(a, b):\n",
    "    return np.outer(a, b)\n",
    "\n",
    "class NeuralNet:\n",
    "    def __init__(self):\n",
    "        self.weights = np.random.random((10, 28 * 28)) * 0.0001\n",
    "        self.alpha = 0.0000001\n",
    "\n",
    "    def predict(self, input):\n",
    "        return vector_matrix_multiplication(input, self.weights)\n",
    "\n",
    "    def train(self, input, labels, epochs):\n",
    "        for i in range(epochs):\n",
    "            for j in range(len(input)):\n",
    "                pred = self.predict(input[j])\n",
    "\n",
    "                label = labels[j]\n",
    "                goal = np.zeros(10)\n",
    "                goal[label] = 1\n",
    "\n",
    "                delta = pred - goal\n",
    "                error = delta ** 2\n",
    "\n",
    "                weight_deltas = outer_product(delta, input[j])\n",
    "\n",
    "                self.weights -= (self.alpha * weight_deltas)"
   ]
  },
  {
   "cell_type": "markdown",
   "metadata": {},
   "source": [
    "# Use The NumPy Functions Inline\n",
    "\n",
    "Already you can see the code is a lot cleaner. \n",
    "\n",
    "If we remove those helper functions and do everything inline, the code shrinks even more. The original implmentation is 70 lines long and this one is only 26 lines.\n",
    "\n",
    "The NumPy library is doing a lot of work for me."
   ]
  },
  {
   "cell_type": "code",
   "execution_count": 1,
   "metadata": {},
   "outputs": [],
   "source": [
    "def flatten_image(image):\n",
    "    return image.reshape(1, 28*28)\n",
    "\n",
    "class NeuralNet:\n",
    "    def __init__(self):\n",
    "        self.weights = np.random.random((10, 28 * 28)) * 0.0001\n",
    "        self.alpha = 0.0000001\n",
    "\n",
    "    def predict(self, input):\n",
    "        return np.matmul(input, self.weights.T)\n",
    "\n",
    "    def train(self, input, labels, epochs):\n",
    "        for i in range(epochs):\n",
    "            for j in range(len(input)):\n",
    "                pred = self.predict(input[j])\n",
    "\n",
    "                label = labels[j]\n",
    "                goal = np.zeros(10)\n",
    "                goal[label] = 1\n",
    "\n",
    "                delta = pred - goal\n",
    "                error = delta ** 2\n",
    "\n",
    "                weight_deltas = np.outer(delta, input[j])\n",
    "\n",
    "                self.weights -= (self.alpha * weight_deltas)"
   ]
  },
  {
   "cell_type": "code",
   "execution_count": 2,
   "metadata": {},
   "outputs": [
    {
     "name": "stdout",
     "output_type": "stream",
     "text": [
      "76.05%\n"
     ]
    }
   ],
   "source": [
    "import itertools\n",
    "import numpy as np\n",
    "\n",
    "from keras.datasets import mnist\n",
    "\n",
    "(x_train, y_train), (x_test, y_test) = mnist.load_data()\n",
    "\n",
    "images = x_train\n",
    "labels = y_train\n",
    "\n",
    "prepared_images = [flatten_image(image) for image in images]\n",
    "prepared_labels = np.array(labels)\n",
    "\n",
    "nn = NeuralNet()\n",
    "nn.train(prepared_images, prepared_labels, 5)\n",
    "\n",
    "test_set = x_test\n",
    "test_labels = y_test\n",
    "num_correct = 0\n",
    "for i in range(len(test_set)):\n",
    "    prediction = nn.predict(flatten_image(test_set[i]))\n",
    "    correct = test_labels[i]\n",
    "    if np.argmax(prediction) == int(correct):\n",
    "        num_correct += 1\n",
    "\n",
    "print(str(num_correct/len(test_set) * 100) + \"%\")"
   ]
  },
  {
   "cell_type": "markdown",
   "metadata": {},
   "source": [
    "# So What's Next?\n",
    "\n",
    "The code is now so efficient I can train on the full dataset and the accuracy gets a little bump.\n",
    "\n",
    "In the next post we'll see if adding a layer helps improve this accuracy even more."
   ]
  },
  {
   "cell_type": "code",
   "execution_count": null,
   "metadata": {},
   "outputs": [],
   "source": []
  }
 ],
 "metadata": {
  "kernelspec": {
   "display_name": "Python 3",
   "language": "python",
   "name": "python3"
  },
  "language_info": {
   "codemirror_mode": {
    "name": "ipython",
    "version": 3
   },
   "file_extension": ".py",
   "mimetype": "text/x-python",
   "name": "python",
   "nbconvert_exporter": "python",
   "pygments_lexer": "ipython3",
   "version": "3.8.5"
  }
 },
 "nbformat": 4,
 "nbformat_minor": 4
}
