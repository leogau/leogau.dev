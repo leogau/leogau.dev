{
 "cells": [
  {
   "cell_type": "raw",
   "metadata": {},
   "source": [
    "---\n",
    "aliases:\n",
    "- /Grokking Deep Learning/Deep Learning/Python/2021/02/28/MNIST\n",
    "badges: true\n",
    "categories:\n",
    "- Grokking Deep Learning\n",
    "- Deep Learning\n",
    "- Python\n",
    "date: '2021-02-28'\n",
    "description: Training a neural network to correctly identify digits from the MNIST\n",
    "  dataset\n",
    "image: images/MnistExamples.png\n",
    "output-file: 2021-02-28-mnist.html\n",
    "title: How I Identify Handwritten Digits Using Only Python\n",
    "toc: true\n",
    "author: Leo Gau\n",
    "\n",
    "---\n"
   ]
  },
  {
   "cell_type": "markdown",
   "metadata": {},
   "source": [
    "# What I'm Building\n",
    "\n",
    "In this post I'll show you how I built a neural network which takes an array of numbers representing a handwritten digit and output a prediction of what digit it is.\n",
    "\n",
    "The handwritten digits are from the famous MNIST dataset. The Modified National Institute of Standards and Technology (MNIST) dataset is a collection of 60,000 small, square 28×28 pixel grayscale images of handwritten single digits between 0 and 9.\n",
    "\n",
    "The task is to classify a given image into one of the 10 digits.\n",
    "\n",
    "I’m doing it all in Python. \n",
    "\n",
    "Let's get started. "
   ]
  },
  {
   "cell_type": "markdown",
   "metadata": {},
   "source": [
    "# The Code"
   ]
  },
  {
   "cell_type": "code",
   "execution_count": null,
   "metadata": {},
   "outputs": [],
   "source": [
    "import itertools\n",
    "\n",
    "from keras.datasets import mnist\n",
    "\n",
    "(x_train, y_train), (x_test, y_test) = mnist.load_data()\n",
    "\n",
    "images = x_train[0:1000]\n",
    "labels = y_train[0:1000]\n",
    "\n",
    "def flatten_image(image):\n",
    "    return list(itertools.chain.from_iterable(image))\n",
    "\n",
    "def weighted_sum(a, b):\n",
    "    assert(len(a) == len(b))\n",
    "    output = 0\n",
    "    for i in range(len(a)):\n",
    "        output += (a[i] * b[i])\n",
    "    return output\n",
    "\n",
    "def vector_matrix_multiplication(a, b):\n",
    "    output = [0 for i in range(10)]\n",
    "    for i in range(len(output)):\n",
    "        assert(len(a) == len(b[i]))\n",
    "        output[i] = weighted_sum(a, b[i])\n",
    "    return output\n",
    "\n",
    "def zeros_matrix(rows, cols):\n",
    "    output = []\n",
    "    for r in range(rows):\n",
    "        output.append([0 for col in range(cols)])\n",
    "    return output\n",
    "\n",
    "def outer_product(a, b):\n",
    "    output = zeros_matrix(len(a), len(b))\n",
    "    for i in range(len(a)):\n",
    "        for j in range(len(b)):\n",
    "            output[i][j] = a[i] * b[j]\n",
    "    return output\n",
    "\n",
    "class NeuralNet:\n",
    "    def __init__(self):\n",
    "        self.weights = [\n",
    "            [0.0000 for i in range(784)],\n",
    "            [0.0001 for i in range(784)],\n",
    "            [0.0002 for i in range(784)],\n",
    "            [0.0003 for i in range(784)],\n",
    "            [0.0004 for i in range(784)],\n",
    "            [0.0005 for i in range(784)],\n",
    "            [0.0006 for i in range(784)],\n",
    "            [0.0007 for i in range(784)],\n",
    "            [0.0008 for i in range(784)],\n",
    "            [0.0009 for i in range(784)]\n",
    "        ]\n",
    "        self.alpha = 0.0000001\n",
    "\n",
    "    def predict(self, input):\n",
    "        return vector_matrix_multiplication(input, self.weights)\n",
    "\n",
    "    def train(self, input, labels, epochs):\n",
    "        for i in range(epochs):\n",
    "            for j in range(len(input)):\n",
    "                pred = self.predict(input[j])\n",
    "\n",
    "                label = labels[j]\n",
    "                goal = [0 for k in range(10)]\n",
    "                goal[label] = 1\n",
    "\n",
    "                error = [0 for k in range(10)]\n",
    "                delta = [0 for k in range(10)]\n",
    "\n",
    "                for a in range(len(goal)):\n",
    "                    delta[a] = pred[a] - goal[a]\n",
    "                    error[a] = delta[a] ** 2\n",
    "\n",
    "                weight_deltas = outer_product(delta, input[j])\n",
    "\n",
    "                for x in range(len(self.weights)):\n",
    "                    for y in range(len(self.weights[0])):\n",
    "                        self.weights[x][y] -= (self.alpha * weight_deltas[x][y])\n",
    "\n",
    "# Train on first image\n",
    "first_image = images[0]\n",
    "first_label = labels[0]\n",
    "input = [flatten_image(first_image)]\n",
    "label = [first_label]\n",
    "\n",
    "nn = NeuralNet()\n",
    "nn.train(input, label, 5)\n",
    "\n",
    "prediction = nn.predict(input[0])\n",
    "print(prediction)\n",
    "print(\"The label is: \" + str(label[0]) + \". The prediction is: \" + str(prediction.index(max(prediction))))\n",
    "\n",
    "# Train on full dataset\n",
    "prepared_images = [flatten_image(image) for image in images]\n",
    "mm = NeuralNet()\n",
    "mm.train(prepared_images, labels, 45)\n",
    "\n",
    "# Test 1 prediction\n",
    "prediction = mm.predict(prepared_images[3])\n",
    "print(\"That image is the number \" + str(prediction.index(max(prediction))))\n",
    "\n",
    "# Calculate accuracy\n",
    "test_set = x_test[0:100]\n",
    "test_labels = y_test[0:100]\n",
    "num_correct = 0\n",
    "for i in range(len(test_set)):\n",
    "    prediction = mm.predict(flatten_image(test_set[i]))\n",
    "    correct = test_labels[i]\n",
    "\n",
    "    if prediction.index(max(prediction)) == int(correct):\n",
    "        num_correct += 1\n",
    "\n",
    "print(str(num_correct/len(test_set) * 100) + \"%\")"
   ]
  },
  {
   "cell_type": "markdown",
   "metadata": {},
   "source": [
    "# Get Dataset\n",
    "\n",
    "The `keras` library helpfully includes the dataset so I can import it from the library. "
   ]
  },
  {
   "cell_type": "code",
   "execution_count": 1,
   "metadata": {},
   "outputs": [],
   "source": [
    "from keras.datasets import mnist\n",
    "\n",
    "(x_train, y_train), (x_test, y_test) = mnist.load_data()\n",
    "\n",
    "images = x_train[0:1000]\n",
    "labels = y_train[0:1000]"
   ]
  },
  {
   "cell_type": "markdown",
   "metadata": {},
   "source": [
    "When I call `load_data()`, I get back two tuples: a training set and a test set. To successfully finishing training on my personal laptop, I had to limit the data to the first 1000 elements. When I tried training on the full data set, it was hadn't finished after a full 24 hours and I had to kill the process to use my laptop :D. \n",
    "\n",
    "With only 1000 images, the best accuracy I achieved was about 75%. Maybe you can tweak the numbers and get something better! \n",
    "\n",
    "Getting back to the data, if I take a look at one of the images in the training set, I see that it is an array of arrays - a matrix. The numbers range from 0 to 255 - each representing the greyscale value of the pixel at a particular position in the image."
   ]
  },
  {
   "cell_type": "code",
   "execution_count": 2,
   "metadata": {},
   "outputs": [
    {
     "data": {
      "text/plain": [
       "array([[  0,   0,   0,   0,   0,   0,   0,   0,   0,   0,   0,   0,   0,\n",
       "          0,   0,   0,   0,   0,   0,   0,   0,   0,   0,   0,   0,   0,\n",
       "          0,   0],\n",
       "       [  0,   0,   0,   0,   0,   0,   0,   0,   0,   0,   0,   0,   0,\n",
       "          0,   0,   0,   0,   0,   0,   0,   0,   0,   0,   0,   0,   0,\n",
       "          0,   0],\n",
       "       [  0,   0,   0,   0,   0,   0,   0,   0,   0,   0,   0,   0,   0,\n",
       "          0,   0,   0,   0,   0,   0,   0,   0,   0,   0,   0,   0,   0,\n",
       "          0,   0],\n",
       "       [  0,   0,   0,   0,   0,   0,   0,   0,   0,   0,   0,   0,   0,\n",
       "          0,   0,   0,   0,   0,   0,   0,   0,   0,   0,   0,   0,   0,\n",
       "          0,   0],\n",
       "       [  0,   0,   0,   0,   0,   0,   0,   0,   0,   0,   0,   0,   0,\n",
       "          0,   0,   0,   0,   0,   0,   0,   0,   0,   0,   0,   0,   0,\n",
       "          0,   0],\n",
       "       [  0,   0,   0,   0,   0,   0,   0,   0,   0,   0,   0,   0,   3,\n",
       "         18,  18,  18, 126, 136, 175,  26, 166, 255, 247, 127,   0,   0,\n",
       "          0,   0],\n",
       "       [  0,   0,   0,   0,   0,   0,   0,   0,  30,  36,  94, 154, 170,\n",
       "        253, 253, 253, 253, 253, 225, 172, 253, 242, 195,  64,   0,   0,\n",
       "          0,   0],\n",
       "       [  0,   0,   0,   0,   0,   0,   0,  49, 238, 253, 253, 253, 253,\n",
       "        253, 253, 253, 253, 251,  93,  82,  82,  56,  39,   0,   0,   0,\n",
       "          0,   0],\n",
       "       [  0,   0,   0,   0,   0,   0,   0,  18, 219, 253, 253, 253, 253,\n",
       "        253, 198, 182, 247, 241,   0,   0,   0,   0,   0,   0,   0,   0,\n",
       "          0,   0],\n",
       "       [  0,   0,   0,   0,   0,   0,   0,   0,  80, 156, 107, 253, 253,\n",
       "        205,  11,   0,  43, 154,   0,   0,   0,   0,   0,   0,   0,   0,\n",
       "          0,   0],\n",
       "       [  0,   0,   0,   0,   0,   0,   0,   0,   0,  14,   1, 154, 253,\n",
       "         90,   0,   0,   0,   0,   0,   0,   0,   0,   0,   0,   0,   0,\n",
       "          0,   0],\n",
       "       [  0,   0,   0,   0,   0,   0,   0,   0,   0,   0,   0, 139, 253,\n",
       "        190,   2,   0,   0,   0,   0,   0,   0,   0,   0,   0,   0,   0,\n",
       "          0,   0],\n",
       "       [  0,   0,   0,   0,   0,   0,   0,   0,   0,   0,   0,  11, 190,\n",
       "        253,  70,   0,   0,   0,   0,   0,   0,   0,   0,   0,   0,   0,\n",
       "          0,   0],\n",
       "       [  0,   0,   0,   0,   0,   0,   0,   0,   0,   0,   0,   0,  35,\n",
       "        241, 225, 160, 108,   1,   0,   0,   0,   0,   0,   0,   0,   0,\n",
       "          0,   0],\n",
       "       [  0,   0,   0,   0,   0,   0,   0,   0,   0,   0,   0,   0,   0,\n",
       "         81, 240, 253, 253, 119,  25,   0,   0,   0,   0,   0,   0,   0,\n",
       "          0,   0],\n",
       "       [  0,   0,   0,   0,   0,   0,   0,   0,   0,   0,   0,   0,   0,\n",
       "          0,  45, 186, 253, 253, 150,  27,   0,   0,   0,   0,   0,   0,\n",
       "          0,   0],\n",
       "       [  0,   0,   0,   0,   0,   0,   0,   0,   0,   0,   0,   0,   0,\n",
       "          0,   0,  16,  93, 252, 253, 187,   0,   0,   0,   0,   0,   0,\n",
       "          0,   0],\n",
       "       [  0,   0,   0,   0,   0,   0,   0,   0,   0,   0,   0,   0,   0,\n",
       "          0,   0,   0,   0, 249, 253, 249,  64,   0,   0,   0,   0,   0,\n",
       "          0,   0],\n",
       "       [  0,   0,   0,   0,   0,   0,   0,   0,   0,   0,   0,   0,   0,\n",
       "          0,  46, 130, 183, 253, 253, 207,   2,   0,   0,   0,   0,   0,\n",
       "          0,   0],\n",
       "       [  0,   0,   0,   0,   0,   0,   0,   0,   0,   0,   0,   0,  39,\n",
       "        148, 229, 253, 253, 253, 250, 182,   0,   0,   0,   0,   0,   0,\n",
       "          0,   0],\n",
       "       [  0,   0,   0,   0,   0,   0,   0,   0,   0,   0,  24, 114, 221,\n",
       "        253, 253, 253, 253, 201,  78,   0,   0,   0,   0,   0,   0,   0,\n",
       "          0,   0],\n",
       "       [  0,   0,   0,   0,   0,   0,   0,   0,  23,  66, 213, 253, 253,\n",
       "        253, 253, 198,  81,   2,   0,   0,   0,   0,   0,   0,   0,   0,\n",
       "          0,   0],\n",
       "       [  0,   0,   0,   0,   0,   0,  18, 171, 219, 253, 253, 253, 253,\n",
       "        195,  80,   9,   0,   0,   0,   0,   0,   0,   0,   0,   0,   0,\n",
       "          0,   0],\n",
       "       [  0,   0,   0,   0,  55, 172, 226, 253, 253, 253, 253, 244, 133,\n",
       "         11,   0,   0,   0,   0,   0,   0,   0,   0,   0,   0,   0,   0,\n",
       "          0,   0],\n",
       "       [  0,   0,   0,   0, 136, 253, 253, 253, 212, 135, 132,  16,   0,\n",
       "          0,   0,   0,   0,   0,   0,   0,   0,   0,   0,   0,   0,   0,\n",
       "          0,   0],\n",
       "       [  0,   0,   0,   0,   0,   0,   0,   0,   0,   0,   0,   0,   0,\n",
       "          0,   0,   0,   0,   0,   0,   0,   0,   0,   0,   0,   0,   0,\n",
       "          0,   0],\n",
       "       [  0,   0,   0,   0,   0,   0,   0,   0,   0,   0,   0,   0,   0,\n",
       "          0,   0,   0,   0,   0,   0,   0,   0,   0,   0,   0,   0,   0,\n",
       "          0,   0],\n",
       "       [  0,   0,   0,   0,   0,   0,   0,   0,   0,   0,   0,   0,   0,\n",
       "          0,   0,   0,   0,   0,   0,   0,   0,   0,   0,   0,   0,   0,\n",
       "          0,   0]], dtype=uint8)"
      ]
     },
     "execution_count": 2,
     "metadata": {},
     "output_type": "execute_result"
    }
   ],
   "source": [
    "images[0]"
   ]
  },
  {
   "cell_type": "markdown",
   "metadata": {},
   "source": [
    "If I look at the first label, I see the number five. This means that the collection of numbers in images[0] represents is the number 5."
   ]
  },
  {
   "cell_type": "code",
   "execution_count": 3,
   "metadata": {},
   "outputs": [
    {
     "data": {
      "text/plain": [
       "5"
      ]
     },
     "execution_count": 3,
     "metadata": {},
     "output_type": "execute_result"
    }
   ],
   "source": [
    "labels[0]"
   ]
  },
  {
   "cell_type": "markdown",
   "metadata": {},
   "source": [
    "# Prepare Data\n",
    "\n",
    "The matrix math that I implement does not know how to handle an array of arrays so, the first thing I do is prepare the data by flattening the image into a single array."
   ]
  },
  {
   "cell_type": "code",
   "execution_count": 4,
   "metadata": {},
   "outputs": [],
   "source": [
    "import itertools\n",
    "\n",
    "def flatten_image(image):\n",
    "    return list(itertools.chain.from_iterable(image))"
   ]
  },
  {
   "cell_type": "markdown",
   "metadata": {},
   "source": [
    "What I'm doing in this function is using the `itertools` library to flatten the array. Specifically, I'm using the `.chain.from_iterable()` method to give me one element at a time. Then I use the `list()` function to create a flat list to return.\n",
    "\n",
    "When I print the first image, I see that all the numbers are in one flat array. "
   ]
  },
  {
   "cell_type": "code",
   "execution_count": 5,
   "metadata": {},
   "outputs": [
    {
     "name": "stdout",
     "output_type": "stream",
     "text": [
      "[0, 0, 0, 0, 0, 0, 0, 0, 0, 0, 0, 0, 0, 0, 0, 0, 0, 0, 0, 0, 0, 0, 0, 0, 0, 0, 0, 0, 0, 0, 0, 0, 0, 0, 0, 0, 0, 0, 0, 0, 0, 0, 0, 0, 0, 0, 0, 0, 0, 0, 0, 0, 0, 0, 0, 0, 0, 0, 0, 0, 0, 0, 0, 0, 0, 0, 0, 0, 0, 0, 0, 0, 0, 0, 0, 0, 0, 0, 0, 0, 0, 0, 0, 0, 0, 0, 0, 0, 0, 0, 0, 0, 0, 0, 0, 0, 0, 0, 0, 0, 0, 0, 0, 0, 0, 0, 0, 0, 0, 0, 0, 0, 0, 0, 0, 0, 0, 0, 0, 0, 0, 0, 0, 0, 0, 0, 0, 0, 0, 0, 0, 0, 0, 0, 0, 0, 0, 0, 0, 0, 0, 0, 0, 0, 0, 0, 0, 0, 0, 0, 0, 0, 3, 18, 18, 18, 126, 136, 175, 26, 166, 255, 247, 127, 0, 0, 0, 0, 0, 0, 0, 0, 0, 0, 0, 0, 30, 36, 94, 154, 170, 253, 253, 253, 253, 253, 225, 172, 253, 242, 195, 64, 0, 0, 0, 0, 0, 0, 0, 0, 0, 0, 0, 49, 238, 253, 253, 253, 253, 253, 253, 253, 253, 251, 93, 82, 82, 56, 39, 0, 0, 0, 0, 0, 0, 0, 0, 0, 0, 0, 0, 18, 219, 253, 253, 253, 253, 253, 198, 182, 247, 241, 0, 0, 0, 0, 0, 0, 0, 0, 0, 0, 0, 0, 0, 0, 0, 0, 0, 0, 80, 156, 107, 253, 253, 205, 11, 0, 43, 154, 0, 0, 0, 0, 0, 0, 0, 0, 0, 0, 0, 0, 0, 0, 0, 0, 0, 0, 0, 14, 1, 154, 253, 90, 0, 0, 0, 0, 0, 0, 0, 0, 0, 0, 0, 0, 0, 0, 0, 0, 0, 0, 0, 0, 0, 0, 0, 0, 0, 139, 253, 190, 2, 0, 0, 0, 0, 0, 0, 0, 0, 0, 0, 0, 0, 0, 0, 0, 0, 0, 0, 0, 0, 0, 0, 0, 0, 11, 190, 253, 70, 0, 0, 0, 0, 0, 0, 0, 0, 0, 0, 0, 0, 0, 0, 0, 0, 0, 0, 0, 0, 0, 0, 0, 0, 0, 35, 241, 225, 160, 108, 1, 0, 0, 0, 0, 0, 0, 0, 0, 0, 0, 0, 0, 0, 0, 0, 0, 0, 0, 0, 0, 0, 0, 0, 81, 240, 253, 253, 119, 25, 0, 0, 0, 0, 0, 0, 0, 0, 0, 0, 0, 0, 0, 0, 0, 0, 0, 0, 0, 0, 0, 0, 0, 45, 186, 253, 253, 150, 27, 0, 0, 0, 0, 0, 0, 0, 0, 0, 0, 0, 0, 0, 0, 0, 0, 0, 0, 0, 0, 0, 0, 0, 16, 93, 252, 253, 187, 0, 0, 0, 0, 0, 0, 0, 0, 0, 0, 0, 0, 0, 0, 0, 0, 0, 0, 0, 0, 0, 0, 0, 0, 0, 249, 253, 249, 64, 0, 0, 0, 0, 0, 0, 0, 0, 0, 0, 0, 0, 0, 0, 0, 0, 0, 0, 0, 0, 0, 46, 130, 183, 253, 253, 207, 2, 0, 0, 0, 0, 0, 0, 0, 0, 0, 0, 0, 0, 0, 0, 0, 0, 0, 0, 0, 39, 148, 229, 253, 253, 253, 250, 182, 0, 0, 0, 0, 0, 0, 0, 0, 0, 0, 0, 0, 0, 0, 0, 0, 0, 0, 24, 114, 221, 253, 253, 253, 253, 201, 78, 0, 0, 0, 0, 0, 0, 0, 0, 0, 0, 0, 0, 0, 0, 0, 0, 0, 23, 66, 213, 253, 253, 253, 253, 198, 81, 2, 0, 0, 0, 0, 0, 0, 0, 0, 0, 0, 0, 0, 0, 0, 0, 0, 18, 171, 219, 253, 253, 253, 253, 195, 80, 9, 0, 0, 0, 0, 0, 0, 0, 0, 0, 0, 0, 0, 0, 0, 0, 0, 55, 172, 226, 253, 253, 253, 253, 244, 133, 11, 0, 0, 0, 0, 0, 0, 0, 0, 0, 0, 0, 0, 0, 0, 0, 0, 0, 0, 136, 253, 253, 253, 212, 135, 132, 16, 0, 0, 0, 0, 0, 0, 0, 0, 0, 0, 0, 0, 0, 0, 0, 0, 0, 0, 0, 0, 0, 0, 0, 0, 0, 0, 0, 0, 0, 0, 0, 0, 0, 0, 0, 0, 0, 0, 0, 0, 0, 0, 0, 0, 0, 0, 0, 0, 0, 0, 0, 0, 0, 0, 0, 0, 0, 0, 0, 0, 0, 0, 0, 0, 0, 0, 0, 0, 0, 0, 0, 0, 0, 0, 0, 0, 0, 0, 0, 0, 0, 0, 0, 0, 0, 0, 0, 0, 0, 0, 0, 0, 0, 0, 0, 0, 0, 0, 0, 0]\n"
     ]
    }
   ],
   "source": [
    "print(flatten_image(images[0]))"
   ]
  },
  {
   "cell_type": "markdown",
   "metadata": {},
   "source": [
    "# Matrix Math Helper Functions\n",
    "\n",
    "Now that I've prepared the data, I can move on to the next step - implement matrix math.\n",
    "\n",
    "Since I'm working with arrays, I need math functions which understand arrays. You may remember from [the previous post](https://leogau.dev/2021/01/22/How-I-Implemented-The-Most-Simple-Neural-Net.html) that a neural network makes predictions by multiplying the input by the weights. So one thing I need to do now is figure out how to do matrix multiplication. \n",
    "\n",
    "In order to do matrix multipliation, I need a method to calculate weighted sums."
   ]
  },
  {
   "cell_type": "code",
   "execution_count": 6,
   "metadata": {},
   "outputs": [],
   "source": [
    "def weighted_sum(a, b):\n",
    "    assert(len(a) == len(b))\n",
    "    output = 0\n",
    "    for i in range(len(a)):\n",
    "        output += (a[i] * b[i])\n",
    "    return output"
   ]
  },
  {
   "cell_type": "markdown",
   "metadata": {},
   "source": [
    "The weighted sum function takes two arrays of the same length. It multiplies each number in the same index and adds the result to a running sum. So the weighted sum takes two arrays and gives you back a single number.\n",
    "\n",
    "The best way to think about what this single number represents is as a score of similarity between two arrays. The higher the weighted sum, the more similar arrays `a` and `b` are to each other. Roughly speaking, the neural network will give higher scores to inputs that are more similar to its weights."
   ]
  },
  {
   "cell_type": "code",
   "execution_count": 7,
   "metadata": {},
   "outputs": [],
   "source": [
    "def vector_matrix_multiplication(a, b):\n",
    "    output = [0 for i in range(10)]\n",
    "    for i in range(len(output)):\n",
    "        assert(len(a) == len(b[i]))\n",
    "        output[i] = weighted_sum(a, b[i])\n",
    "    return output"
   ]
  },
  {
   "cell_type": "markdown",
   "metadata": {},
   "source": [
    "Next, I have the matrix multiplication method. This calculates the weighted sum between weight and input for each position in the array. When it's done, I get an array of weighted sums.\n",
    "\n",
    "In my case, the returned output of 10 elements contain the probability of which digit the input represents. Whichever index has the highest number is the prediction for what digit is in the image.\n",
    "\n",
    "I need two other matrix math helpers. These functions will be used to adjust the weights in the right direction.\n",
    "\n",
    "First, I have a zeros matrix method which creates a matrix filled with zeros."
   ]
  },
  {
   "cell_type": "code",
   "execution_count": 8,
   "metadata": {},
   "outputs": [],
   "source": [
    "def zeros_matrix(rows, cols):\n",
    "    output = []\n",
    "    for r in range(rows):\n",
    "        output.append([0 for col in range(cols)])\n",
    "    return output"
   ]
  },
  {
   "cell_type": "markdown",
   "metadata": {},
   "source": [
    "This is used to implement a function to calculate the outer product of two matrices.\n",
    "\n",
    "The outer product does an elementwise multiplication between two matricies. This will be used to tell the neural network how to change its weights. "
   ]
  },
  {
   "cell_type": "code",
   "execution_count": 9,
   "metadata": {},
   "outputs": [],
   "source": [
    "def outer_product(a, b):\n",
    "    output = zeros_matrix(len(a), len(b))\n",
    "    for i in range(len(a)):\n",
    "        for j in range(len(b)):\n",
    "            output[i][j] = a[i] * b[j]\n",
    "    return output"
   ]
  },
  {
   "cell_type": "markdown",
   "metadata": {},
   "source": [
    "Okay. That's a lot of math. Let's find out how these functions are being used in the neural network."
   ]
  },
  {
   "cell_type": "markdown",
   "metadata": {},
   "source": [
    "# Neural Network"
   ]
  },
  {
   "cell_type": "code",
   "execution_count": 10,
   "metadata": {},
   "outputs": [],
   "source": [
    "class NeuralNet:\n",
    "    def __init__(self):\n",
    "        self.weights = [\n",
    "            [0.0000 for i in range(784)],\n",
    "            [0.0001 for i in range(784)],\n",
    "            [0.0002 for i in range(784)],\n",
    "            [0.0003 for i in range(784)],\n",
    "            [0.0004 for i in range(784)],\n",
    "            [0.0005 for i in range(784)],\n",
    "            [0.0006 for i in range(784)],\n",
    "            [0.0007 for i in range(784)],\n",
    "            [0.0008 for i in range(784)],\n",
    "            [0.0009 for i in range(784)]\n",
    "        ]\n",
    "        self.alpha = 0.0000001\n",
    "\n",
    "    def predict(self, input):\n",
    "        return vector_matrix_multiplication(input, self.weights)\n",
    "\n",
    "    def train(self, input, labels, epochs):\n",
    "        for i in range(epochs):\n",
    "            for j in range(len(input)):\n",
    "                pred = self.predict(input[j])\n",
    "\n",
    "                label = labels[j]\n",
    "                goal = [0 for k in range(10)]\n",
    "                goal[label] = 1\n",
    "\n",
    "                error = [0 for k in range(10)]\n",
    "                delta = [0 for k in range(10)]\n",
    "\n",
    "                for a in range(len(goal)):\n",
    "                    delta[a] = pred[a] - goal[a]\n",
    "                    error[a] = delta[a] ** 2\n",
    "\n",
    "                weight_deltas = outer_product(delta, input[j])\n",
    "\n",
    "                for x in range(len(self.weights)):\n",
    "                    for y in range(len(self.weights[0])):\n",
    "                        self.weights[x][y] -= (self.alpha * weight_deltas[x][y])\n"
   ]
  },
  {
   "cell_type": "markdown",
   "metadata": {},
   "source": [
    "This neural network is similar to the one from [the previous post](https://leogau.dev/2021/01/22/How-I-Implemented-The-Most-Simple-Neural-Net.html). The only real difference is that we're using an array of numbers instead of a single number.\n",
    "\n",
    "In the initializer, I have the weights and the alpha. I've initialized each weight array to have `784` elements of an initial number. `784` is the number of pixels in the image. \n",
    "\n",
    "```python\n",
    "def __init__(self):\n",
    "    self.weights = [\n",
    "        [0.0000 for i in range(784)],\n",
    "        [0.0001 for i in range(784)],\n",
    "        [0.0002 for i in range(784)],\n",
    "        [0.0003 for i in range(784)],\n",
    "        [0.0004 for i in range(784)],\n",
    "        [0.0005 for i in range(784)],\n",
    "        [0.0006 for i in range(784)],\n",
    "        [0.0007 for i in range(784)],\n",
    "        [0.0008 for i in range(784)],\n",
    "        [0.0009 for i in range(784)]\n",
    "    ]\n",
    "    self.alpha = 0.0000001\n",
    "```\n",
    "\n",
    "The prediction function is again multplying the input by the weights.\n",
    "\n",
    "```python\n",
    "def predict(self, input):\n",
    "    return vector_matrix_multiplication(input, self.weights)\n",
    "```\n",
    "\n",
    "The training function iterates through the dataset an `epoch` number of times. \n",
    "\n",
    "```python\n",
    "for i in range(epochs):\n",
    "    for j in range(len(input)):\n",
    "```\n",
    "\n",
    "For each image, it makes a prediction\n",
    "\n",
    "```python\n",
    "pred = self.predict(input[j])\n",
    "```\n",
    "\n",
    "Next we transform the label into a format that the neural network expects. \n",
    "\n",
    "```python\n",
    "label = labels[j]\n",
    "goal = [0 for k in range(10)]\n",
    "goal[label] = 1\n",
    "```\n",
    "\n",
    "I create an array of ten 0s and then set the index of the goal prediction to 1. So all the wrong answers are 0 and the right answer is 1. \n",
    "\n",
    "Next, I calculate the error and the delta.\n",
    "\n",
    "```python\n",
    "error = [0 for k in range(10)]\n",
    "delta = [0 for k in range(10)]\n",
    "\n",
    "for a in range(len(goal)):\n",
    "    delta[a] = pred[a] - goal[a]\n",
    "    error[a] = delta[a] ** 2\n",
    "```\n",
    "\n",
    "I then calculate the weight deltas by using an outer product between delta and the input. \n",
    "\n",
    "```python\n",
    "weight_deltas = outer_product(delta, input[j])\n",
    "```\n",
    "\n",
    "Finally I update all the weights using the weight deltas. \n",
    "\n",
    "```python\n",
    "for x in range(len(self.weights)):\n",
    "    for y in range(len(self.weights[0])):\n",
    "        self.weights[x][y] -= (self.alpha * weight_deltas[x][y])\n",
    "```\n",
    "\n",
    "The main takeaway here is that this is exactly like the neural network with one digit. The only difference is that the math is done on arrays instead of on single numbers."
   ]
  },
  {
   "cell_type": "markdown",
   "metadata": {},
   "source": [
    "# Training The Network On The First Data Point\n",
    "\n",
    "Let's put this new network into action. To test it out, I take take the first image and the first label. I create a neural network and train it on that first image and label for five epochs. When I predict the digit on that same image, I see the output array is an array of 10 numbers."
   ]
  },
  {
   "cell_type": "code",
   "execution_count": 11,
   "metadata": {},
   "outputs": [
    {
     "name": "stdout",
     "output_type": "stream",
     "text": [
      "[0.0, 0.03036370905054081, 0.06072741810108162, 0.09109112715162263, 0.12145483620216324, 1.1407872249800253, 0.18218225430324525, 0.21254596335378556, 0.24290967240432648, 0.2732733814548679]\n",
      "The label is: 5. The prediction is: 5\n"
     ]
    }
   ],
   "source": [
    "first_image = images[0]\n",
    "first_label = labels[0]\n",
    "input = [flatten_image(first_image)]\n",
    "label = [first_label]\n",
    "\n",
    "nn = NeuralNet()\n",
    "nn.train(input, label, 5)\n",
    "\n",
    "prediction = nn.predict(input[0])\n",
    "print(prediction)\n",
    "print(\"The label is: \" + str(label[0]) + \". The prediction is: \" + str(prediction.index(max(prediction))))"
   ]
  },
  {
   "cell_type": "markdown",
   "metadata": {},
   "source": [
    "The number in index five is the greatest, so the network correctly identified the handwritten number of the number `5`.\n",
    "\n",
    "It works on one data point but what about the entire data set?\n",
    "\n",
    "Let's do that next. "
   ]
  },
  {
   "cell_type": "markdown",
   "metadata": {},
   "source": [
    "# Training The Network On All The Whole Dataset\n",
    "\n",
    "I prepare the images by flattening every image in our data set. Again, this is the first 1000 from the MNIST dataset. I create the neural network, giving it the prepared images and labels. \n",
    "\n",
    "I run it for 5 epochs. Through trial and error I found that 5 epochs gives me the highest accuracy of just under 75%. \n",
    "\n",
    "When it's finished, I test the network by making a prediction on a random image. It correctly identified the image."
   ]
  },
  {
   "cell_type": "code",
   "execution_count": 12,
   "metadata": {},
   "outputs": [
    {
     "name": "stdout",
     "output_type": "stream",
     "text": [
      "That image is the number 1\n"
     ]
    }
   ],
   "source": [
    "prepared_images = [flatten_image(image) for image in images]\n",
    "\n",
    "mm = NeuralNet()\n",
    "mm.train(prepared_images, labels, 5)\n",
    "\n",
    "prediction = mm.predict(prepared_images[3])\n",
    "print(\"That image is the number \" + str(prediction.index(max(prediction))))"
   ]
  },
  {
   "cell_type": "code",
   "execution_count": 13,
   "metadata": {},
   "outputs": [
    {
     "data": {
      "text/plain": [
       "1"
      ]
     },
     "execution_count": 13,
     "metadata": {},
     "output_type": "execute_result"
    }
   ],
   "source": [
    "labels[3]"
   ]
  },
  {
   "cell_type": "markdown",
   "metadata": {},
   "source": [
    "To test the true accuracy, I use the test data and labels.\n",
    "\n",
    "I run through a loop of the test set, make a prediction, checking its accuracy, and counting the number correct."
   ]
  },
  {
   "cell_type": "code",
   "execution_count": 14,
   "metadata": {},
   "outputs": [
    {
     "name": "stdout",
     "output_type": "stream",
     "text": [
      "74.47%\n"
     ]
    }
   ],
   "source": [
    "test_set = x_test\n",
    "test_labels = y_test\n",
    "num_correct = 0\n",
    "for i in range(len(test_set)):\n",
    "    prediction = mm.predict(flatten_image(test_set[i]))\n",
    "    correct = test_labels[i]\n",
    "    if prediction.index(max(prediction)) == int(correct):\n",
    "        num_correct += 1\n",
    "\n",
    "print(str(num_correct/len(test_set) * 100) + \"%\")"
   ]
  },
  {
   "cell_type": "markdown",
   "metadata": {},
   "source": [
    "In the end, I'm able to correctly predict 3 out of every 4 images in the test set."
   ]
  },
  {
   "cell_type": "markdown",
   "metadata": {},
   "source": [
    "# So What Did We Do?"
   ]
  },
  {
   "cell_type": "markdown",
   "metadata": {},
   "source": [
    "This was a fun little exercise to see how neural networks use matrix math to make predictions."
   ]
  },
  {
   "cell_type": "markdown",
   "metadata": {},
   "source": [
    "# What's Next?"
   ]
  },
  {
   "cell_type": "markdown",
   "metadata": {},
   "source": [
    "\n",
    "In the next post, I’ll experiment with adding multiple layers to make the network \"deep\". I'll also swap my handwritten matrix math functions for NumPy functions and see how much easier it makes some of this for me.\n",
    "\n",
    "See you next time!"
   ]
  }
 ],
 "metadata": {
  "kernelspec": {
   "display_name": "Python 3",
   "language": "python",
   "name": "python3"
  },
  "language_info": {
   "codemirror_mode": {
    "name": "ipython",
    "version": 3
   },
   "file_extension": ".py",
   "mimetype": "text/x-python",
   "name": "python",
   "nbconvert_exporter": "python",
   "pygments_lexer": "ipython3",
   "version": "3.8.5"
  }
 },
 "nbformat": 4,
 "nbformat_minor": 4
}
