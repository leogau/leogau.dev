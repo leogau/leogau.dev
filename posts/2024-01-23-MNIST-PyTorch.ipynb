{
 "cells": [
  {
   "cell_type": "raw",
   "metadata": {},
   "source": [
    "---\n",
    "author: Leo Gau\n",
    "categories:\n",
    "- PyTorch\n",
    "- Deep Learning\n",
    "- Python\n",
    "date: '2024-01-23'\n",
    "description: Training a neural network using PyTorch to correctly identify articles of clothes from the Fashion-MNIST dataset\n",
    "image: images/MnistExamples.png\n",
    "output-file: 2024-01-23-fashion-mnist.html\n",
    "title: Using PyTorch to identify clothes\n",
    "toc: true\n",
    "draft: true\n",
    "author: Leo Gau\n",
    "\n",
    "---"
   ]
  },
  {
   "cell_type": "markdown",
   "metadata": {},
   "source": [
    "# What I'm Building\n",
    "\n",
    "In this post, I'll show you how I build a neural network to identify articles of clothes from the Fashion MNIST dataset. Fashion MNIST is a direct drop-in replacement for the popular MNIST dataset so it shares the same 28x28 image size and structure of MNIST.\n",
    "\n",
    "The training set contains 60,000 images of clothes associated with 10 different classes. The task is to classify a given image as the correct article of clothing.\n",
    "\n",
    "Instead of using only Python, I'm going to build on the previous posts and use the PyTorch library to build this neural network. \n",
    "\n",
    "Let's get started.\n",
    "\n",
    "# The Code"
   ]
  },
  {
   "cell_type": "markdown",
   "metadata": {},
   "source": []
  }
 ],
 "metadata": {
  "kernelspec": {
   "display_name": "Python 3 (ipykernel)",
   "language": "python",
   "name": "python3"
  }
 },
 "nbformat": 4,
 "nbformat_minor": 2
}
